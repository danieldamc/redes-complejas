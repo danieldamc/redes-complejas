{
 "cells": [
  {
   "cell_type": "markdown",
   "metadata": {},
   "source": [
    "# Assignment 2 - Redes Complejas"
   ]
  },
  {
   "cell_type": "code",
   "execution_count": 2,
   "metadata": {},
   "outputs": [],
   "source": [
    "import numpy as np"
   ]
  },
  {
   "cell_type": "markdown",
   "metadata": {},
   "source": [
    "# Q1"
   ]
  },
  {
   "cell_type": "code",
   "execution_count": 30,
   "metadata": {},
   "outputs": [
    {
     "data": {
      "text/plain": [
       "array([[0, 1, 1, 0, 0, 0, 0],\n",
       "       [1, 0, 1, 0, 0, 0, 0],\n",
       "       [1, 1, 0, 1, 0, 0, 0],\n",
       "       [0, 0, 1, 0, 1, 1, 0],\n",
       "       [0, 0, 0, 1, 0, 1, 0],\n",
       "       [0, 0, 0, 1, 1, 0, 1],\n",
       "       [0, 0, 0, 0, 0, 1, 0]])"
      ]
     },
     "execution_count": 30,
     "metadata": {},
     "output_type": "execute_result"
    }
   ],
   "source": [
    "Adj= np.array([\n",
    "    [0, 1, 1, 0, 0, 0, 0], \n",
    "    [1, 0, 1, 0, 0, 0, 0], \n",
    "    [1, 1, 0, 1, 0, 0, 0], \n",
    "    [0, 0, 1, 0, 1, 1, 0], \n",
    "    [0, 0, 0, 1, 0, 1, 0], \n",
    "    [0, 0, 0, 1, 1, 0, 1], \n",
    "    [0, 0, 0, 0, 0, 1, 0]\n",
    "])\n",
    "\n",
    "Adj"
   ]
  },
  {
   "cell_type": "code",
   "execution_count": 31,
   "metadata": {},
   "outputs": [
    {
     "data": {
      "text/plain": [
       "array([[ 2, -1, -1,  0,  0,  0,  0],\n",
       "       [-1,  2, -1,  0,  0,  0,  0],\n",
       "       [-1, -1,  3, -1,  0,  0,  0],\n",
       "       [ 0,  0, -1,  3, -1, -1,  0],\n",
       "       [ 0,  0,  0, -1,  2, -1,  0],\n",
       "       [ 0,  0,  0, -1, -1,  3, -1],\n",
       "       [ 0,  0,  0,  0,  0, -1,  1]])"
      ]
     },
     "execution_count": 31,
     "metadata": {},
     "output_type": "execute_result"
    }
   ],
   "source": [
    "D = np.diag(np.sum(Adj, axis=1))\n",
    "L = D - Adj\n",
    "L"
   ]
  },
  {
   "cell_type": "code",
   "execution_count": 32,
   "metadata": {},
   "outputs": [],
   "source": [
    "from scipy.linalg import eig\n",
    "\n",
    "w, v = eig(L)\n",
    "\n",
    "idx = np.argsort(w)\n",
    "w = w[idx]\n",
    "v = v[:, idx]"
   ]
  },
  {
   "cell_type": "code",
   "execution_count": 33,
   "metadata": {},
   "outputs": [
    {
     "name": "stdout",
     "output_type": "stream",
     "text": [
      "The fiedler values is (0.34032095848177174+0j)\n",
      "The fiedler vector is [ 0.46724728  0.46724728  0.30823323 -0.11469308 -0.27370712 -0.33957289\n",
      " -0.5147547 ]\n"
     ]
    }
   ],
   "source": [
    "fiedler_value = w[1]\n",
    "fiedler_vector = v[:, 1]\n",
    "\n",
    "print(f\"The fiedler values is {fiedler_value}\")\n",
    "print(f\"The fiedler vector is {fiedler_vector}\")"
   ]
  },
  {
   "cell_type": "code",
   "execution_count": 7,
   "metadata": {},
   "outputs": [],
   "source": [
    "import networkx as nx\n",
    "\n",
    "G = nx.Graph()\n",
    "G.add_nodes_from(range(len(Adj)))\n",
    "for i in range(len(Adj)):\n",
    "    for j in range(len(Adj)):\n",
    "        if Adj[i][j] == 1:\n",
    "            G.add_edge(i, j)\n",
    "\n",
    "community_1 = [i for i, x in enumerate(fiedler_vector) if x >= 0]\n",
    "community_2 = [i for i, x in enumerate(fiedler_vector) if x < 0]"
   ]
  },
  {
   "cell_type": "code",
   "execution_count": 8,
   "metadata": {},
   "outputs": [
    {
     "data": {
      "image/png": "[encoded data removed]",
      "text/plain": [
       "<Figure size 800x600 with 1 Axes>"
      ]
     },
     "metadata": {},
     "output_type": "display_data"
    }
   ],
   "source": [
    "import matplotlib.pyplot as plt\n",
    "\n",
    "node_colors = ['blue' if node in community_1 else 'red' for node in G.nodes()]\n",
    "\n",
    "pos = nx.spring_layout(G)\n",
    "plt.figure(figsize=(8, 6))\n",
    "labels = {i: f'{i}\\n{fiedler_vector[i]:.2f}' for i in range(len(fiedler_vector))}\n",
    "nx.draw_networkx_labels(G, pos, labels, font_size=12, )\n",
    "nx.draw(G, pos=pos, with_labels=False, node_color=node_colors, node_size=300)\n",
    "plt.show()"
   ]
  },
  {
   "cell_type": "code",
   "execution_count": null,
   "metadata": {},
   "outputs": [],
   "source": [
    "Adj= np.array([\n",
    "    [0, 1, 1, 0, 0, 0, 0], \n",
    "    [1, 0, 1, 0, 0, 0, 0], \n",
    "    [1, 1, 0, 1, 0, 0, 0], \n",
    "    [0, 0, 1, 0, 1, 1, 0], \n",
    "    [0, 0, 0, 1, 0, 1, 0], \n",
    "    [0, 0, 0, 1, 1, 0, 1], \n",
    "    [0, 0, 0, 0, 0, 1, 0]\n",
    "])\n",
    "\n",
    "Adj"
   ]
  },
  {
   "cell_type": "markdown",
   "metadata": {},
   "source": [
    "# Q3"
   ]
  },
  {
   "cell_type": "code",
   "execution_count": 1,
   "metadata": {},
   "outputs": [],
   "source": [
    "import numpy as np"
   ]
  },
  {
   "cell_type": "code",
   "execution_count": 2,
   "metadata": {},
   "outputs": [
    {
     "name": "stdout",
     "output_type": "stream",
     "text": [
      "Delfines\n",
      "Number of nodes: 62\n",
      "Number of edges: 159\n"
     ]
    }
   ],
   "source": [
    "import networkx as nx\n",
    "\n",
    "delfines_graph = nx.read_pajek('data/delfines.net')\n",
    "\n",
    "print(\"Delfines\")\n",
    "delfines_graph_total_nodes, delfines_graph_total_edges = delfines_graph.number_of_nodes(), delfines_graph.number_of_edges()\n",
    "print(\"Number of nodes:\", delfines_graph_total_nodes)\n",
    "print(\"Number of edges:\", delfines_graph_total_edges)"
   ]
  },
  {
   "cell_type": "code",
   "execution_count": 3,
   "metadata": {},
   "outputs": [
    {
     "name": "stdout",
     "output_type": "stream",
     "text": [
      "Gnutella\n",
      "Number of nodes: 795\n",
      "Number of edges: 852\n"
     ]
    }
   ],
   "source": [
    "import networkx as nx\n",
    "\n",
    "gnutella_graph = nx.read_pajek('data/gnutella.net')\n",
    "print(\"Gnutella\")\n",
    "gnutella_graph_total_nodes, gnutella_graph_total_edges = gnutella_graph.number_of_nodes(), gnutella_graph.number_of_edges()\n",
    "print(\"Number of nodes:\", gnutella_graph_total_nodes)\n",
    "print(\"Number of edges:\", gnutella_graph_total_edges)"
   ]
  },
  {
   "cell_type": "code",
   "execution_count": 4,
   "metadata": {},
   "outputs": [
    {
     "name": "stdout",
     "output_type": "stream",
     "text": [
      "Density of delfines graph: 0.08408249603384453\n",
      "Density of gnutella graph: 0.002699491469036643\n"
     ]
    }
   ],
   "source": [
    "gnutella_density = nx.density(gnutella_graph)\n",
    "delfines_density = nx.density(delfines_graph)\n",
    "\n",
    "print(\"Density of delfines graph:\", delfines_density)\n",
    "print(\"Density of gnutella graph:\", gnutella_density)"
   ]
  },
  {
   "cell_type": "code",
   "execution_count": 5,
   "metadata": {},
   "outputs": [
    {
     "name": "stdout",
     "output_type": "stream",
     "text": [
      "Delfines Erdos Renyi\n",
      "Number of nodes: 62\n",
      "Number of edges: 152\n"
     ]
    }
   ],
   "source": [
    "delfines_graph_erdos_renyi = nx.erdos_renyi_graph(delfines_graph_total_nodes, delfines_density)\n",
    "\n",
    "print(\"Delfines Erdos Renyi\")\n",
    "delfines_graph_erdos_renyi_total_nodes, delfines_graph_erdos_renyi_total_edges = delfines_graph_erdos_renyi.number_of_nodes(), delfines_graph_erdos_renyi.number_of_edges()\n",
    "print(\"Number of nodes:\", delfines_graph_erdos_renyi_total_nodes)\n",
    "print(\"Number of edges:\", delfines_graph_erdos_renyi_total_edges)"
   ]
  },
  {
   "cell_type": "code",
   "execution_count": 6,
   "metadata": {},
   "outputs": [
    {
     "name": "stdout",
     "output_type": "stream",
     "text": [
      "Gnutella Erdos Renyi\n",
      "Number of nodes: 795\n",
      "Number of edges: 862\n"
     ]
    }
   ],
   "source": [
    "gnutella_erdos_renyi_graph = nx.erdos_renyi_graph(gnutella_graph_total_nodes, gnutella_density)\n",
    "\n",
    "print(\"Gnutella Erdos Renyi\")\n",
    "gnutella_erdos_renyi_graph_total_nodes, gnutella_erdos_renyi_graph_total_edges = gnutella_erdos_renyi_graph.number_of_nodes(), gnutella_erdos_renyi_graph.number_of_edges()\n",
    "print(\"Number of nodes:\", gnutella_erdos_renyi_graph_total_nodes)\n",
    "print(\"Number of edges:\", gnutella_erdos_renyi_graph_total_edges)"
   ]
  },
  {
   "cell_type": "code",
   "execution_count": 7,
   "metadata": {},
   "outputs": [],
   "source": [
    "def giant_component_size_fn(G):\n",
    "    largest_cc = max(nx.connected_components(G), key=len)\n",
    "    return len(largest_cc)"
   ]
  },
  {
   "cell_type": "code",
   "execution_count": 8,
   "metadata": {},
   "outputs": [],
   "source": [
    "def remove_nodes_until_half_giant_component_size(gnutella_graph):\n",
    "    import random\n",
    "\n",
    "    giant_component_size = giant_component_size_fn(gnutella_graph)\n",
    "    target_component_size = giant_component_size // 2\n",
    "\n",
    "    giant_sizes = [giant_component_size]\n",
    "\n",
    "    i = 0\n",
    "    while giant_sizes[-1] > target_component_size:\n",
    "        i += 1\n",
    "        node_to_remove = random.choice(list(gnutella_graph.nodes))\n",
    "        gnutella_graph.remove_node(node_to_remove)\n",
    "        current_giant_size = giant_component_size_fn(gnutella_graph)\n",
    "        giant_sizes.append(current_giant_size)\n",
    "    \n",
    "    return giant_sizes"
   ]
  },
  {
   "cell_type": "code",
   "execution_count": 9,
   "metadata": {},
   "outputs": [],
   "source": [
    "def remove_degree_nodes_until_half_giant_component_size(gnutella_graph):\n",
    "    giant_component_size = giant_component_size_fn(gnutella_graph)\n",
    "    target_component_size = giant_component_size // 2\n",
    "\n",
    "    giant_sizes = [giant_component_size]\n",
    "\n",
    "    i = 0\n",
    "    while giant_sizes[-1] > target_component_size:\n",
    "        i += 1\n",
    "        node_to_remove = max(gnutella_graph.degree, key=lambda x: x[1])[0]\n",
    "        gnutella_graph.remove_node(node_to_remove)\n",
    "        current_giant_size = giant_component_size_fn(gnutella_graph)\n",
    "        giant_sizes.append(current_giant_size)\n",
    "    \n",
    "    return giant_sizes"
   ]
  },
  {
   "cell_type": "code",
   "execution_count": 10,
   "metadata": {},
   "outputs": [],
   "source": [
    "def remove_betweenness_nodes_until_half_giant_component_size(gnutella_graph):\n",
    "    giant_component_size = giant_component_size_fn(gnutella_graph)\n",
    "    target_component_size = giant_component_size // 2\n",
    "\n",
    "    giant_sizes = [giant_component_size]\n",
    "\n",
    "    i = 0\n",
    "    while giant_sizes[-1] > target_component_size:\n",
    "        i += 1\n",
    "        node_to_remove = max(nx.betweenness_centrality(gnutella_graph).items(), key=lambda x: x[1])[0]\n",
    "        gnutella_graph.remove_node(node_to_remove)\n",
    "        current_giant_size = giant_component_size_fn(gnutella_graph)\n",
    "        giant_sizes.append(current_giant_size)\n",
    "    \n",
    "    return giant_sizes"
   ]
  },
  {
   "cell_type": "markdown",
   "metadata": {},
   "source": [
    "### Delfines"
   ]
  },
  {
   "cell_type": "code",
   "execution_count": 82,
   "metadata": {},
   "outputs": [],
   "source": [
    "deleted_nodes_number = []\n",
    "for i in range(100):\n",
    "    delfines = delfines_graph.copy()\n",
    "    giant_sizes_delfines = remove_nodes_until_half_giant_component_size(delfines)\n",
    "    deleted_nodes_number.append(len(giant_sizes_delfines))"
   ]
  },
  {
   "cell_type": "code",
   "execution_count": 83,
   "metadata": {},
   "outputs": [],
   "source": [
    "average_number_deleted_nodes = np.average(deleted_nodes_number)"
   ]
  },
  {
   "cell_type": "code",
   "execution_count": 84,
   "metadata": {},
   "outputs": [
    {
     "name": "stdout",
     "output_type": "stream",
     "text": [
      "Random removal\n",
      "Average number of nodes removed: 26.15\n",
      "Percentage of nodes removed: 42.18%\n",
      "giant component size: 30\n"
     ]
    }
   ],
   "source": [
    "print('Random removal')\n",
    "\n",
    "print('Average number of nodes removed:', average_number_deleted_nodes)\n",
    "print(f'Percentage of nodes removed: {(average_number_deleted_nodes / delfines_graph_total_nodes) * 100:.2f}%')\n",
    "print('giant component size:', giant_sizes_delfines[-1])"
   ]
  },
  {
   "cell_type": "code",
   "execution_count": 86,
   "metadata": {},
   "outputs": [
    {
     "name": "stdout",
     "output_type": "stream",
     "text": [
      "Degree removal\n",
      "Number of nodes removed: 16\n",
      "Percentage of nodes removed: 25.81%\n",
      "Giant component size: 30\n"
     ]
    }
   ],
   "source": [
    "delfines = delfines_graph.copy()\n",
    "giant_sizes_delfines = remove_degree_nodes_until_half_giant_component_size(delfines)\n",
    "deleted_nodes_number = len(giant_sizes_delfines)\n",
    "\n",
    "print('Degree removal')\n",
    "print('Number of nodes removed:', int(deleted_nodes_number))\n",
    "print(f'Percentage of nodes removed: {(deleted_nodes_number / delfines_graph_total_nodes) * 100:.2f}%')\n",
    "print('Giant component size:', giant_sizes_delfines[-1])"
   ]
  },
  {
   "cell_type": "code",
   "execution_count": 87,
   "metadata": {},
   "outputs": [
    {
     "name": "stdout",
     "output_type": "stream",
     "text": [
      "Betweenness removal\n",
      "Number of nodes removed: 9\n",
      "Percentage of nodes removed: 14.52%\n",
      "Giant component size: 31\n"
     ]
    }
   ],
   "source": [
    "delfines = delfines_graph.copy()\n",
    "giant_sizes_delfines = remove_betweenness_nodes_until_half_giant_component_size(delfines)\n",
    "deleted_nodes_number = len(giant_sizes_delfines)\n",
    "\n",
    "print('Betweenness removal')\n",
    "print('Number of nodes removed:', int(deleted_nodes_number))\n",
    "print(f'Percentage of nodes removed: {(deleted_nodes_number / delfines_graph_total_nodes) * 100:.2f}%')\n",
    "print('Giant component size:', giant_sizes_delfines[-1])"
   ]
  },
  {
   "cell_type": "markdown",
   "metadata": {},
   "source": [
    "### Delfines Erdos Renyi"
   ]
  },
  {
   "cell_type": "code",
   "execution_count": 88,
   "metadata": {},
   "outputs": [
    {
     "name": "stdout",
     "output_type": "stream",
     "text": [
      "Random removal\n",
      "Average number of nodes removed: 29.79\n",
      "Percentage of nodes removed: 48.05%\n",
      "Giant component size: 30\n"
     ]
    }
   ],
   "source": [
    "deleted_nodes_number = []\n",
    "for i in range(100):\n",
    "    delfines_erdos_renyi = delfines_graph_erdos_renyi.copy()\n",
    "    giant_sizes_delfines_erdos_renyi = remove_nodes_until_half_giant_component_size(delfines_erdos_renyi)\n",
    "    deleted_nodes_number.append(len(giant_sizes_delfines_erdos_renyi))\n",
    "\n",
    "average_number_deleted_nodes = np.average(deleted_nodes_number)\n",
    "\n",
    "print('Random removal')\n",
    "print('Average number of nodes removed:', average_number_deleted_nodes)\n",
    "print(f'Percentage of nodes removed: {(average_number_deleted_nodes / delfines_graph_erdos_renyi_total_nodes) * 100:.2f}%')\n",
    "print('Giant component size:', giant_sizes_delfines_erdos_renyi[-1])"
   ]
  },
  {
   "cell_type": "code",
   "execution_count": 21,
   "metadata": {},
   "outputs": [
    {
     "name": "stdout",
     "output_type": "stream",
     "text": [
      "Degree removal\n",
      "Number of nodes removed: 21\n",
      "Percentage of nodes removed: 33.87%\n"
     ]
    }
   ],
   "source": [
    "delfines_erdos_renyi = delfines_graph_erdos_renyi.copy()\n",
    "giant_sizes_delfines_erdos_renyi = remove_degree_nodes_until_half_giant_component_size(delfines_erdos_renyi)\n",
    "deleted_nodes_number = len(giant_sizes_delfines_erdos_renyi)\n",
    "\n",
    "print('Degree removal')\n",
    "print('Number of nodes removed:', int(deleted_nodes_number))\n",
    "print(f'Percentage of nodes removed: {(deleted_nodes_number / delfines_graph_erdos_renyi_total_nodes) * 100:.2f}%')"
   ]
  },
  {
   "cell_type": "code",
   "execution_count": 22,
   "metadata": {},
   "outputs": [
    {
     "name": "stdout",
     "output_type": "stream",
     "text": [
      "Betweenness removal\n",
      "Number of nodes removed: 18\n",
      "Percentage of nodes removed: 29.03%\n"
     ]
    }
   ],
   "source": [
    "delfines_erdos_renyi = delfines_graph_erdos_renyi.copy()\n",
    "giant_sizes_delfines_erdos_renyi = remove_betweenness_nodes_until_half_giant_component_size(delfines_erdos_renyi)\n",
    "deleted_nodes_number = len(giant_sizes_delfines_erdos_renyi)\n",
    "\n",
    "print('Betweenness removal')\n",
    "print('Number of nodes removed:', int(deleted_nodes_number))\n",
    "print(f'Percentage of nodes removed: {(deleted_nodes_number / delfines_graph_erdos_renyi_total_nodes) * 100:.2f}%')"
   ]
  },
  {
   "cell_type": "markdown",
   "metadata": {},
   "source": [
    "### Gnutella"
   ]
  },
  {
   "cell_type": "code",
   "execution_count": 24,
   "metadata": {},
   "outputs": [
    {
     "name": "stdout",
     "output_type": "stream",
     "text": [
      "Random removal\n",
      "Average number of nodes removed: 270.63\n",
      "Percentage of nodes removed: 34.04%\n"
     ]
    }
   ],
   "source": [
    "deleted_nodes_number = []\n",
    "\n",
    "for i in range(100):\n",
    "    gnutella = gnutella_graph.copy()\n",
    "    giant_sizes_gnutella = remove_nodes_until_half_giant_component_size(gnutella)\n",
    "    deleted_nodes_number.append(len(giant_sizes_gnutella))\n",
    "\n",
    "average_number_deleted_nodes = np.average(deleted_nodes_number)\n",
    "\n",
    "print('Random removal')\n",
    "print('Average number of nodes removed:', average_number_deleted_nodes)\n",
    "print(f'Percentage of nodes removed: {(average_number_deleted_nodes / gnutella_graph_total_nodes) * 100:.2f}%')"
   ]
  },
  {
   "cell_type": "code",
   "execution_count": 25,
   "metadata": {},
   "outputs": [
    {
     "name": "stdout",
     "output_type": "stream",
     "text": [
      "Degree removal\n",
      "Number of nodes removed: 25\n",
      "Percentage of nodes removed: 3.14%\n"
     ]
    }
   ],
   "source": [
    "gnutella = gnutella_graph.copy()\n",
    "giant_sizes_gnutella = remove_degree_nodes_until_half_giant_component_size(gnutella)\n",
    "deleted_nodes_number = len(giant_sizes_gnutella)\n",
    "\n",
    "print('Degree removal')\n",
    "print('Number of nodes removed:', int(deleted_nodes_number))\n",
    "print(f'Percentage of nodes removed: {(deleted_nodes_number / gnutella_graph_total_nodes) * 100:.2f}%')"
   ]
  },
  {
   "cell_type": "code",
   "execution_count": 12,
   "metadata": {},
   "outputs": [
    {
     "name": "stdout",
     "output_type": "stream",
     "text": [
      "Betweenness removal\n",
      "Number of nodes removed: 26\n",
      "Percentage of nodes removed: 3.27%\n"
     ]
    }
   ],
   "source": [
    "gnutella = gnutella_graph.copy()\n",
    "giant_sizes_gnutella = remove_betweenness_nodes_until_half_giant_component_size(gnutella)\n",
    "deleted_nodes_number = len(giant_sizes_gnutella)\n",
    "\n",
    "print('Betweenness removal')\n",
    "print('Number of nodes removed:', int(deleted_nodes_number))\n",
    "print(f'Percentage of nodes removed: {(deleted_nodes_number / gnutella_graph_total_nodes) * 100:.2f}%')"
   ]
  },
  {
   "cell_type": "markdown",
   "metadata": {},
   "source": [
    "### Gnutella Erdos Renyi"
   ]
  },
  {
   "cell_type": "code",
   "execution_count": 27,
   "metadata": {},
   "outputs": [
    {
     "name": "stdout",
     "output_type": "stream",
     "text": [
      "Random removal\n",
      "Average number of nodes removed: 222.92\n",
      "Percentage of nodes removed: 28.04%\n"
     ]
    }
   ],
   "source": [
    "deleted_nodes_number = []\n",
    "\n",
    "for i in range(100):\n",
    "    gnutella_erdos_renyi = gnutella_erdos_renyi_graph.copy()\n",
    "    giant_sizes_gnutella_erdos_renyi = remove_nodes_until_half_giant_component_size(gnutella_erdos_renyi)\n",
    "    deleted_nodes_number.append(len(giant_sizes_gnutella_erdos_renyi))\n",
    "\n",
    "average_number_deleted_nodes = np.average(deleted_nodes_number)\n",
    "\n",
    "print('Random removal')\n",
    "\n",
    "print('Average number of nodes removed:', average_number_deleted_nodes)\n",
    "print(f'Percentage of nodes removed: {(average_number_deleted_nodes / gnutella_erdos_renyi_graph_total_nodes) * 100:.2f}%')"
   ]
  },
  {
   "cell_type": "code",
   "execution_count": 28,
   "metadata": {},
   "outputs": [
    {
     "name": "stdout",
     "output_type": "stream",
     "text": [
      "Degree removal\n",
      "Number of nodes removed: 63\n",
      "Percentage of nodes removed: 7.92%\n"
     ]
    }
   ],
   "source": [
    "gnutella_erdos_renyi = gnutella_erdos_renyi_graph.copy()\n",
    "giant_sizes_gnutella_erdos_renyi = remove_degree_nodes_until_half_giant_component_size(gnutella_erdos_renyi)\n",
    "deleted_nodes_number = len(giant_sizes_gnutella_erdos_renyi)\n",
    "\n",
    "print('Degree removal')\n",
    "print('Number of nodes removed:', int(deleted_nodes_number))\n",
    "print(f'Percentage of nodes removed: {(deleted_nodes_number / gnutella_erdos_renyi_graph_total_nodes) * 100:.2f}%')"
   ]
  },
  {
   "cell_type": "code",
   "execution_count": 15,
   "metadata": {},
   "outputs": [
    {
     "name": "stdout",
     "output_type": "stream",
     "text": [
      "Betweenness removal\n",
      "Number of nodes removed: 51\n",
      "Percentage of nodes removed: 6.42%\n"
     ]
    }
   ],
   "source": [
    "gnutella = gnutella_erdos_renyi_graph.copy()\n",
    "giant_sizes_gnutella = remove_betweenness_nodes_until_half_giant_component_size(gnutella)\n",
    "deleted_nodes_number = len(giant_sizes_gnutella)\n",
    "\n",
    "print('Betweenness removal')\n",
    "print('Number of nodes removed:', int(deleted_nodes_number))\n",
    "print(f'Percentage of nodes removed: {(deleted_nodes_number / gnutella_graph_total_nodes) * 100:.2f}%')"
   ]
  },
  {
   "cell_type": "markdown",
   "metadata": {},
   "source": [
    "# Q4"
   ]
  },
  {
   "cell_type": "code",
   "execution_count": 74,
   "metadata": {},
   "outputs": [],
   "source": [
    "import random\n",
    "import networkx as nx\n",
    "\n",
    "def create_er_with_partition(num_nodes, conn_prob, set_1, set_2, p):\n",
    "    G = nx.erdos_renyi_graph(num_nodes, conn_prob)\n",
    "\n",
    "    DG = nx.DiGraph()\n",
    "    DG.add_nodes_from(G.nodes())\n",
    "    for (u, v) in G.edges():\n",
    "        if (u in set_1 and v in set_2):\n",
    "            if random.random() < p:\n",
    "                DG.add_edge(u, v)\n",
    "            else:\n",
    "                DG.add_edge(v, u)\n",
    "                \n",
    "        elif (u in set_2 and v in set_1):\n",
    "            if random.random() < p:\n",
    "                DG.add_edge(v, u)\n",
    "            else:\n",
    "                DG.add_edge(u, v)\n",
    "\n",
    "        else:\n",
    "            if random.random() < 0.5:\n",
    "                DG.add_edge(u, v)\n",
    "            else:\n",
    "                DG.add_edge(v, u)\n",
    "\n",
    "    return DG\n",
    "\n",
    "def directed_modularity(DG, partition):\n",
    "    m = DG.number_of_edges()\n",
    "    A = nx.adjacency_matrix(DG).toarray()\n",
    "\n",
    "    k_out = np.array([DG.out_degree(n) for n in DG.nodes()])\n",
    "    k_in = np.array([DG.in_degree(n) for n in DG.nodes()])\n",
    "    \n",
    "    Q = 0.0\n",
    "    for i in range(len(DG.nodes())):\n",
    "        for j in range(len(DG.nodes())):\n",
    "            if partition[i] == partition[j]:\n",
    "                expected_weight = (k_out[j] * k_in[i]) / m\n",
    "                Q += A[i][j] - expected_weight\n",
    "\n",
    "    Q = Q / m\n",
    "\n",
    "    return Q"
   ]
  },
  {
   "cell_type": "markdown",
   "metadata": {},
   "source": [
    "### $ B_{1} $ y $B_{2} $"
   ]
  },
  {
   "cell_type": "code",
   "execution_count": 78,
   "metadata": {},
   "outputs": [],
   "source": [
    "import numpy as np\n",
    "\n",
    "num_nodes = 200\n",
    "connection_prob = 0.2\n",
    "\n",
    "B1 = set(range(100))\n",
    "B2 = set(range(100, 200))\n",
    "\n",
    "C1 = set(range(50)).union(set(range(100, 150)))\n",
    "C2 = set(range(50, 100)).union(set(range(150, 200)))\n",
    "\n",
    "avg_modularities_partition_1 = []\n",
    "avg_modularities_partition_2 = []\n",
    "\n",
    "for p in np.arange(0, 1.1, 0.1):\n",
    "    modularities_partition_1 = []\n",
    "    modularities_partition_2 = []\n",
    "\n",
    "\n",
    "    for _ in range(100):\n",
    "        DG = create_er_with_partition(num_nodes, connection_prob, B1, B2, p)\n",
    "        partition_1 = [0 if node in B1 else 1 for node in DG.nodes()]\n",
    "        partition_2 = [0 if node in C1 else 1 for node in DG.nodes()]\n",
    "        modularities_partition_1.append(directed_modularity(DG, partition_1))\n",
    "        modularities_partition_2.append(directed_modularity(DG, partition_2))\n",
    "\n",
    "    avg_modularities_partition_1.append(np.average(modularities_partition_1))\n",
    "    avg_modularities_partition_2.append(np.average(modularities_partition_2))"
   ]
  },
  {
   "cell_type": "code",
   "execution_count": 79,
   "metadata": {},
   "outputs": [
    {
     "data": {
      "image/png": "[encoded data removed]",
      "text/plain": [
       "<Figure size 800x600 with 1 Axes>"
      ]
     },
     "metadata": {},
     "output_type": "display_data"
    }
   ],
   "source": [
    "import matplotlib.pyplot as plt\n",
    "\n",
    "plt.figure(figsize=(8, 6))\n",
    "plt.plot(np.arange(0, 1.1, 0.1), avg_modularities_partition_1)\n",
    "plt.plot(np.arange(0, 1.1, 0.1), avg_modularities_partition_2)\n",
    "plt.xlabel('Probabilidad')\n",
    "plt.ylabel('Modularidad')\n",
    "plt.xticks(np.arange(0, 1.1, 0.1))\n",
    "plt.show()"
   ]
  },
  {
   "cell_type": "markdown",
   "metadata": {},
   "source": [
    "# Q5"
   ]
  },
  {
   "cell_type": "markdown",
   "metadata": {},
   "source": [
    "# Q6"
   ]
  },
  {
   "cell_type": "code",
   "execution_count": 18,
   "metadata": {},
   "outputs": [
    {
     "data": {
      "image/png": "[encoded data removed]",
      "text/plain": [
       "<Figure size 1000x1000 with 1 Axes>"
      ]
     },
     "metadata": {},
     "output_type": "display_data"
    }
   ],
   "source": [
    "import networkx as nx\n",
    "import numpy as np\n",
    "import matplotlib.pyplot as plt\n",
    "\n",
    "small_graph = nx.read_pajek('data/redchica.net')\n",
    "\n",
    "degree_dict = dict(small_graph.in_degree())\n",
    "betweenness_dict = nx.betweenness_centrality(small_graph)\n",
    "pagerank_dict = nx.pagerank(small_graph)\n",
    "\n",
    "labels = {node: f\"In Degree: {degree_dict[node]}\\nBetweenness: {betweenness_dict[node]:.2f}\\nPageRank: {pagerank_dict[node]:.2f}\"\n",
    "          for node in small_graph.nodes()}\n",
    "\n",
    "pos = nx.spring_layout(small_graph)\n",
    "\n",
    "plt.figure(figsize=(10, 10))\n",
    "nx.draw(small_graph, pos, with_labels=True, node_color='skyblue', node_size=2000, edge_color='gray')\n",
    "\n",
    "label_pos = {node: (x, y + 0.1) for node, (x, y) in pos.items()}\n",
    "nx.draw_networkx_labels(small_graph, label_pos, labels=labels, horizontalalignment='center', font_size=7, font_color='black');\n",
    "plt.show()"
   ]
  },
  {
   "cell_type": "code",
   "execution_count": 19,
   "metadata": {},
   "outputs": [
    {
     "data": {
      "text/plain": [
       "{'In Degree': {'v1': 1,\n",
       "  'v2': 1,\n",
       "  'v3': 2,\n",
       "  'v4': 2,\n",
       "  'v5': 3,\n",
       "  'v6': 1,\n",
       "  'v7': 1,\n",
       "  'v8': 1},\n",
       " 'Betweenness': {'v1': 0.23809523809523808,\n",
       "  'v2': 0.047619047619047616,\n",
       "  'v3': 0.42857142857142855,\n",
       "  'v4': 0.30952380952380953,\n",
       "  'v5': 0.3571428571428571,\n",
       "  'v6': 0.21428571428571427,\n",
       "  'v7': 0.0,\n",
       "  'v8': 0.07142857142857142},\n",
       " 'PageRank': {'v1': 0.07772495643200114,\n",
       "  'v2': 0.06457944396598708,\n",
       "  'v3': 0.16298039195570818,\n",
       "  'v4': 0.1800976358851923,\n",
       "  'v5': 0.20915876345606038,\n",
       "  'v6': 0.12043968216953191,\n",
       "  'v7': 0.12043968216953191,\n",
       "  'v8': 0.06457944396598708}}"
      ]
     },
     "execution_count": 19,
     "metadata": {},
     "output_type": "execute_result"
    }
   ],
   "source": [
    "data = {\"In Degree\": degree_dict, \"Betweenness\": betweenness_dict, \"PageRank\": pagerank_dict}\n",
    "data"
   ]
  },
  {
   "cell_type": "code",
   "execution_count": 21,
   "metadata": {},
   "outputs": [
    {
     "data": {
      "text/html": [
       "<div>\n",
       "<style scoped>\n",
       "    .dataframe tbody tr th:only-of-type {\n",
       "        vertical-align: middle;\n",
       "    }\n",
       "\n",
       "    .dataframe tbody tr th {\n",
       "        vertical-align: top;\n",
       "    }\n",
       "\n",
       "    .dataframe thead th {\n",
       "        text-align: right;\n",
       "    }\n",
       "</style>\n",
       "<table border=\"1\" class=\"dataframe\">\n",
       "  <thead>\n",
       "    <tr style=\"text-align: right;\">\n",
       "      <th></th>\n",
       "      <th>Node</th>\n",
       "      <th>In Degree</th>\n",
       "    </tr>\n",
       "  </thead>\n",
       "  <tbody>\n",
       "    <tr>\n",
       "      <th>0</th>\n",
       "      <td>v5</td>\n",
       "      <td>3</td>\n",
       "    </tr>\n",
       "    <tr>\n",
       "      <th>1</th>\n",
       "      <td>v3</td>\n",
       "      <td>2</td>\n",
       "    </tr>\n",
       "    <tr>\n",
       "      <th>2</th>\n",
       "      <td>v4</td>\n",
       "      <td>2</td>\n",
       "    </tr>\n",
       "    <tr>\n",
       "      <th>3</th>\n",
       "      <td>v1</td>\n",
       "      <td>1</td>\n",
       "    </tr>\n",
       "    <tr>\n",
       "      <th>4</th>\n",
       "      <td>v2</td>\n",
       "      <td>1</td>\n",
       "    </tr>\n",
       "    <tr>\n",
       "      <th>5</th>\n",
       "      <td>v6</td>\n",
       "      <td>1</td>\n",
       "    </tr>\n",
       "    <tr>\n",
       "      <th>6</th>\n",
       "      <td>v7</td>\n",
       "      <td>1</td>\n",
       "    </tr>\n",
       "    <tr>\n",
       "      <th>7</th>\n",
       "      <td>v8</td>\n",
       "      <td>1</td>\n",
       "    </tr>\n",
       "  </tbody>\n",
       "</table>\n",
       "</div>"
      ],
      "text/plain": [
       "  Node  In Degree\n",
       "0   v5          3\n",
       "1   v3          2\n",
       "2   v4          2\n",
       "3   v1          1\n",
       "4   v2          1\n",
       "5   v6          1\n",
       "6   v7          1\n",
       "7   v8          1"
      ]
     },
     "metadata": {},
     "output_type": "display_data"
    },
    {
     "data": {
      "text/html": [
       "<div>\n",
       "<style scoped>\n",
       "    .dataframe tbody tr th:only-of-type {\n",
       "        vertical-align: middle;\n",
       "    }\n",
       "\n",
       "    .dataframe tbody tr th {\n",
       "        vertical-align: top;\n",
       "    }\n",
       "\n",
       "    .dataframe thead th {\n",
       "        text-align: right;\n",
       "    }\n",
       "</style>\n",
       "<table border=\"1\" class=\"dataframe\">\n",
       "  <thead>\n",
       "    <tr style=\"text-align: right;\">\n",
       "      <th></th>\n",
       "      <th>Node</th>\n",
       "      <th>Betweenness</th>\n",
       "    </tr>\n",
       "  </thead>\n",
       "  <tbody>\n",
       "    <tr>\n",
       "      <th>0</th>\n",
       "      <td>v3</td>\n",
       "      <td>0.428571</td>\n",
       "    </tr>\n",
       "    <tr>\n",
       "      <th>1</th>\n",
       "      <td>v5</td>\n",
       "      <td>0.357143</td>\n",
       "    </tr>\n",
       "    <tr>\n",
       "      <th>2</th>\n",
       "      <td>v4</td>\n",
       "      <td>0.309524</td>\n",
       "    </tr>\n",
       "    <tr>\n",
       "      <th>3</th>\n",
       "      <td>v1</td>\n",
       "      <td>0.238095</td>\n",
       "    </tr>\n",
       "    <tr>\n",
       "      <th>4</th>\n",
       "      <td>v6</td>\n",
       "      <td>0.214286</td>\n",
       "    </tr>\n",
       "    <tr>\n",
       "      <th>5</th>\n",
       "      <td>v8</td>\n",
       "      <td>0.071429</td>\n",
       "    </tr>\n",
       "    <tr>\n",
       "      <th>6</th>\n",
       "      <td>v2</td>\n",
       "      <td>0.047619</td>\n",
       "    </tr>\n",
       "    <tr>\n",
       "      <th>7</th>\n",
       "      <td>v7</td>\n",
       "      <td>0.000000</td>\n",
       "    </tr>\n",
       "  </tbody>\n",
       "</table>\n",
       "</div>"
      ],
      "text/plain": [
       "  Node  Betweenness\n",
       "0   v3     0.428571\n",
       "1   v5     0.357143\n",
       "2   v4     0.309524\n",
       "3   v1     0.238095\n",
       "4   v6     0.214286\n",
       "5   v8     0.071429\n",
       "6   v2     0.047619\n",
       "7   v7     0.000000"
      ]
     },
     "metadata": {},
     "output_type": "display_data"
    },
    {
     "data": {
      "text/html": [
       "<div>\n",
       "<style scoped>\n",
       "    .dataframe tbody tr th:only-of-type {\n",
       "        vertical-align: middle;\n",
       "    }\n",
       "\n",
       "    .dataframe tbody tr th {\n",
       "        vertical-align: top;\n",
       "    }\n",
       "\n",
       "    .dataframe thead th {\n",
       "        text-align: right;\n",
       "    }\n",
       "</style>\n",
       "<table border=\"1\" class=\"dataframe\">\n",
       "  <thead>\n",
       "    <tr style=\"text-align: right;\">\n",
       "      <th></th>\n",
       "      <th>Node</th>\n",
       "      <th>PageRank</th>\n",
       "    </tr>\n",
       "  </thead>\n",
       "  <tbody>\n",
       "    <tr>\n",
       "      <th>0</th>\n",
       "      <td>v5</td>\n",
       "      <td>0.209159</td>\n",
       "    </tr>\n",
       "    <tr>\n",
       "      <th>1</th>\n",
       "      <td>v4</td>\n",
       "      <td>0.180098</td>\n",
       "    </tr>\n",
       "    <tr>\n",
       "      <th>2</th>\n",
       "      <td>v3</td>\n",
       "      <td>0.162980</td>\n",
       "    </tr>\n",
       "    <tr>\n",
       "      <th>3</th>\n",
       "      <td>v6</td>\n",
       "      <td>0.120440</td>\n",
       "    </tr>\n",
       "    <tr>\n",
       "      <th>4</th>\n",
       "      <td>v7</td>\n",
       "      <td>0.120440</td>\n",
       "    </tr>\n",
       "    <tr>\n",
       "      <th>5</th>\n",
       "      <td>v1</td>\n",
       "      <td>0.077725</td>\n",
       "    </tr>\n",
       "    <tr>\n",
       "      <th>6</th>\n",
       "      <td>v2</td>\n",
       "      <td>0.064579</td>\n",
       "    </tr>\n",
       "    <tr>\n",
       "      <th>7</th>\n",
       "      <td>v8</td>\n",
       "      <td>0.064579</td>\n",
       "    </tr>\n",
       "  </tbody>\n",
       "</table>\n",
       "</div>"
      ],
      "text/plain": [
       "  Node  PageRank\n",
       "0   v5  0.209159\n",
       "1   v4  0.180098\n",
       "2   v3  0.162980\n",
       "3   v6  0.120440\n",
       "4   v7  0.120440\n",
       "5   v1  0.077725\n",
       "6   v2  0.064579\n",
       "7   v8  0.064579"
      ]
     },
     "metadata": {},
     "output_type": "display_data"
    }
   ],
   "source": [
    "import pandas as pd\n",
    "degree_df = pd.DataFrame(sorted(degree_dict.items(), key=lambda x: x[1], reverse=True), columns=['Node', 'In Degree'])\n",
    "betweenness_df = pd.DataFrame(sorted(betweenness_dict.items(), key=lambda x: x[1], reverse=True), columns=['Node', 'Betweenness'])\n",
    "pagerank_df = pd.DataFrame(sorted(pagerank_dict.items(), key=lambda x: x[1], reverse=True), columns=['Node', 'PageRank'])\n",
    "display(degree_df)\n",
    "display(betweenness_df)\n",
    "display(pagerank_df)"
   ]
  },
  {
   "cell_type": "markdown",
   "metadata": {},
   "source": [
    "# Q7"
   ]
  },
  {
   "cell_type": "code",
   "execution_count": 37,
   "metadata": {},
   "outputs": [],
   "source": [
    "import networkx as nx\n",
    "\n",
    "scientometrics_graph = nx.read_pajek('data/scientometrics_modified.net')"
   ]
  },
  {
   "cell_type": "code",
   "execution_count": 44,
   "metadata": {},
   "outputs": [
    {
     "data": {
      "text/plain": [
       "{'021D': 22575,\n",
       " '021U': 16464,\n",
       " '021C': 9761,\n",
       " '111D': 3,\n",
       " '111U': 3,\n",
       " '030T': 1777,\n",
       " '030C': 0,\n",
       " '201': 0,\n",
       " '120D': 0,\n",
       " '120U': 0,\n",
       " '120C': 0,\n",
       " '210': 0,\n",
       " '300': 0}"
      ]
     },
     "execution_count": 44,
     "metadata": {},
     "output_type": "execute_result"
    }
   ],
   "source": [
    "triadics = nx.triadic_census(scientometrics_graph)\n",
    "triadics = {key: value for key, value in triadics.items() if key not in ['003', '012', '102']}\n",
    "triadics"
   ]
  },
  {
   "cell_type": "code",
   "execution_count": 62,
   "metadata": {},
   "outputs": [],
   "source": [
    "from scipy.stats import zscore\n",
    "\n",
    "triadics_zscore = zscore(list(triadics.values()))\n",
    "triadics_zscore = (triadics_zscore - triadics_zscore.min()) / (triadics_zscore.max() - triadics_zscore.min()) - 0.5"
   ]
  },
  {
   "cell_type": "code",
   "execution_count": 61,
   "metadata": {},
   "outputs": [],
   "source": [
    "import matplotlib.pyplot as plt\n",
    "\n",
    "# plt.figure(figsize=(10, 6))\n",
    "# plt.plot(list(triadics.keys()), triadics_zscore, marker='o')\n",
    "# # Show horizontal line at 0\n",
    "# plt.axhline(0, color='black', linestyle='-')\n",
    "# plt.xticks(rotation=45)\n",
    "# plt.xlabel('Triádico')\n",
    "# plt.ylabel('Z Score')\n",
    "# plt.title('Triádicos con Z Score')\n",
    "# plt.show()"
   ]
  },
  {
   "cell_type": "code",
   "execution_count": null,
   "metadata": {},
   "outputs": [],
   "source": [
    "Ma = 22575\n",
    "Mb = 9761\n",
    "Mc = 16464\n",
    "Nfb = 0\n",
    "Nffa = Nffb = Nffc = 1777"
   ]
  },
  {
   "cell_type": "markdown",
   "metadata": {},
   "source": [
    "# Q8"
   ]
  }
 ],
 "metadata": {
  "kernelspec": {
   "display_name": "Python 3",
   "language": "python",
   "name": "python3"
  },
  "language_info": {
   "codemirror_mode": {
    "name": "ipython",
    "version": 3
   },
   "file_extension": ".py",
   "mimetype": "text/x-python",
   "name": "python",
   "nbconvert_exporter": "python",
   "pygments_lexer": "ipython3",
   "version": "3.10.6"
  }
 },
 "nbformat": 4,
 "nbformat_minor": 2
}
