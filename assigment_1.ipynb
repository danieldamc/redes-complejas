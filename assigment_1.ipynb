{
 "cells": [
  {
   "cell_type": "code",
   "execution_count": 3,
   "metadata": {},
   "outputs": [],
   "source": [
    "import networkx as nx\n",
    "from networkx.algorithms.community import label_propagation_communities\n",
    "import networkx.algorithms.community as nx_comm\n",
    "import matplotlib.pyplot as plt"
   ]
  },
  {
   "cell_type": "code",
   "execution_count": 4,
   "metadata": {},
   "outputs": [
    {
     "data": {
      "text/plain": [
       "<networkx.classes.multigraph.MultiGraph at 0x15710d8ee90>"
      ]
     },
     "execution_count": 4,
     "metadata": {},
     "output_type": "execute_result"
    }
   ],
   "source": [
    "# Leo una red en formato pajek\n",
    "G = nx.read_pajek(\"net_17.net\")\n",
    "# Se supone que todos los archivos los dejé no-dirigidos, pero por si acaso...\n",
    "G = G.to_undirected()\n",
    "G"
   ]
  },
  {
   "cell_type": "markdown",
   "metadata": {},
   "source": [
    "# Basic Data"
   ]
  },
  {
   "cell_type": "code",
   "execution_count": 5,
   "metadata": {},
   "outputs": [
    {
     "name": "stdout",
     "output_type": "stream",
     "text": [
      "Number of nodes: 924\n",
      "Number of edges: 3239\n"
     ]
    }
   ],
   "source": [
    "# Get the number of nodes\n",
    "num_nodes = G.number_of_nodes()\n",
    "num_edges = G.number_of_edges()\n",
    "\n",
    "print(\"Number of nodes:\", num_nodes)\n",
    "print(\"Number of edges:\", num_edges)"
   ]
  },
  {
   "cell_type": "code",
   "execution_count": 6,
   "metadata": {},
   "outputs": [
    {
     "name": "stdout",
     "output_type": "stream",
     "text": [
      "First edge: 1 2 {'weight': 1.958915898}\n"
     ]
    }
   ],
   "source": [
    "# First edge\n",
    "u, v, data = G.edges(data=True).__iter__().__next__()\n",
    "print(\"First edge:\", u, v, data)"
   ]
  },
  {
   "cell_type": "markdown",
   "metadata": {},
   "source": [
    "# Conexity"
   ]
  },
  {
   "cell_type": "code",
   "execution_count": 7,
   "metadata": {},
   "outputs": [
    {
     "name": "stdout",
     "output_type": "stream",
     "text": [
      "Number of connected components: 13\n",
      "Component 1 size: 878\n",
      "Component 2 size: 3\n",
      "Component 3 size: 3\n",
      "Component 4 size: 3\n",
      "Component 5 size: 6\n",
      "Component 6 size: 3\n",
      "Component 7 size: 9\n",
      "Component 8 size: 3\n",
      "Component 9 size: 3\n",
      "Component 10 size: 4\n",
      "Component 11 size: 3\n",
      "Component 12 size: 3\n",
      "Component 13 size: 3\n"
     ]
    }
   ],
   "source": [
    "connected_components = list(nx.connected_components(G))\n",
    "\n",
    "# Print the number of connected components and their sizes\n",
    "print(\"Number of connected components:\", len(connected_components))\n",
    "for i, component in enumerate(connected_components, start=1):\n",
    "    print(\"Component\", i, \"size:\", len(component))"
   ]
  },
  {
   "cell_type": "code",
   "execution_count": 8,
   "metadata": {},
   "outputs": [
    {
     "data": {
      "text/plain": [
       "(878, 3181)"
      ]
     },
     "execution_count": 8,
     "metadata": {},
     "output_type": "execute_result"
    }
   ],
   "source": [
    "# Giant Component\n",
    "S = G.subgraph(max(nx.connected_components(G), key=len)).copy()\n",
    "\n",
    "Ssimp = nx.Graph()\n",
    "for u,v,data in S.edges(data=True):\n",
    "    if not Ssimp.has_edge(u,v):\n",
    "        Ssimp.add_edge(u, v)\n",
    "    \n",
    "\n",
    "Ssimp.number_of_nodes(), Ssimp.number_of_edges()"
   ]
  },
  {
   "cell_type": "code",
   "execution_count": 9,
   "metadata": {},
   "outputs": [
    {
     "name": "stdout",
     "output_type": "stream",
     "text": [
      "Giant component node ratio: 0.95\n",
      "Smaller component node ratio: 0.05\n"
     ]
    }
   ],
   "source": [
    "giant_component_node_ratio = Ssimp.number_of_nodes() / num_nodes\n",
    "\n",
    "print(f\"Giant component node ratio: {giant_component_node_ratio:.2f}\")\n",
    "print(f\"Smaller component node ratio: {(1 - giant_component_node_ratio):.2f}\")"
   ]
  },
  {
   "cell_type": "markdown",
   "metadata": {},
   "source": [
    "# Degrees"
   ]
  },
  {
   "cell_type": "code",
   "execution_count": 10,
   "metadata": {},
   "outputs": [
    {
     "name": "stdout",
     "output_type": "stream",
     "text": [
      "Minimum degree: 1\n",
      "Maximum degree: 151\n",
      "Average degree: 7.246013667425968\n"
     ]
    }
   ],
   "source": [
    "degrees = [degree for node, degree in Ssimp.degree()]\n",
    "\n",
    "# Get the minimum, maximum, and average degree\n",
    "min_degree = min(degrees)\n",
    "max_degree = max(degrees)\n",
    "avg_degree = sum(degrees) / len(degrees)\n",
    "\n",
    "print(\"Minimum degree:\", min_degree)\n",
    "print(\"Maximum degree:\", max_degree)\n",
    "print(\"Average degree:\", avg_degree)"
   ]
  },
  {
   "cell_type": "code",
   "execution_count": 11,
   "metadata": {},
   "outputs": [
    {
     "data": {
      "image/png": "[encoded data removed]",
      "text/plain": [
       "<Figure size 640x480 with 1 Axes>"
      ]
     },
     "metadata": {},
     "output_type": "display_data"
    }
   ],
   "source": [
    "# Plot the degree distribution\n",
    "plt.hist(degrees, bins='auto', alpha=0.7)\n",
    "plt.title(\"Degree Distribution\")\n",
    "plt.xlabel(\"Degree\")\n",
    "plt.ylabel(\"Frequency\")\n",
    "plt.grid(True)\n",
    "plt.show()"
   ]
  },
  {
   "cell_type": "markdown",
   "metadata": {},
   "source": [
    "# Distances"
   ]
  },
  {
   "cell_type": "code",
   "execution_count": 12,
   "metadata": {},
   "outputs": [
    {
     "name": "stdout",
     "output_type": "stream",
     "text": [
      "Average distance between nodes: 3.7349033643893685\n",
      "Diameter of the graph: 10\n"
     ]
    }
   ],
   "source": [
    "average_shortest_path_length = nx.average_shortest_path_length(Ssimp)\n",
    "diameter = nx.diameter(Ssimp)\n",
    "\n",
    "print(\"Average distance between nodes:\", average_shortest_path_length)\n",
    "print(\"Diameter of the graph:\", diameter)"
   ]
  },
  {
   "cell_type": "markdown",
   "metadata": {},
   "source": [
    "# Transitivity"
   ]
  },
  {
   "cell_type": "code",
   "execution_count": 13,
   "metadata": {},
   "outputs": [
    {
     "name": "stdout",
     "output_type": "stream",
     "text": [
      "Average clustering coefficient count_zeros=True: 0.5889265274190247\n",
      "Average clustering coefficient count_zeros=False: 0.6455399389187313\n"
     ]
    }
   ],
   "source": [
    "# Calculate the average clustering coefficient\n",
    "average_clustering_coefficient_t = nx.average_clustering(Ssimp, count_zeros=True)\n",
    "average_clustering_coefficient_f = nx.average_clustering(Ssimp, count_zeros=False)\n",
    "\n",
    "print(\"Average clustering coefficient count_zeros=True:\", average_clustering_coefficient_t)\n",
    "print(\"Average clustering coefficient count_zeros=False:\", average_clustering_coefficient_f)\n"
   ]
  },
  {
   "cell_type": "markdown",
   "metadata": {},
   "source": [
    "TODO: Make random graph and calculate the average clustering to compare the results"
   ]
  },
  {
   "cell_type": "markdown",
   "metadata": {},
   "source": [
    "# Centralidad TODO: Daniel"
   ]
  },
  {
   "cell_type": "markdown",
   "metadata": {},
   "source": [
    "# Core"
   ]
  },
  {
   "cell_type": "code",
   "execution_count": 14,
   "metadata": {},
   "outputs": [
    {
     "name": "stdout",
     "output_type": "stream",
     "text": [
      "Number of nodes in the 1-core: 878\n",
      "Number of nodes in the 2-core: 806\n",
      "Number of nodes in the 3-core: 572\n",
      "Number of nodes in the 4-core: 421\n",
      "Number of nodes in the 5-core: 315\n",
      "Number of nodes in the 6-core: 223\n",
      "Number of nodes in the 7-core: 136\n",
      "Number of nodes in the 8-core: 79\n",
      "Number of nodes in the 9-core: 56\n",
      "Number of nodes in the 10-core: 0\n",
      "Maximum core number: 9\n"
     ]
    },
    {
     "data": {
      "text/plain": [
       "9"
      ]
     },
     "execution_count": 14,
     "metadata": {},
     "output_type": "execute_result"
    }
   ],
   "source": [
    "def get_kcore_depth(net, verbose=False):\n",
    "\ti = 1\n",
    "\twhile True:\n",
    "\t\tn_nodes = len(nx.k_core(net, i))\n",
    "\t\tif verbose: print(f\"Number of nodes in the {i}-core:\", n_nodes)\n",
    "\t\tif n_nodes == 0:\n",
    "\t\t\tbreak\n",
    "\t\ti += 1\n",
    "\tif verbose: print(\"Maximum core number:\", i - 1)\n",
    "\treturn i - 1\n",
    "\n",
    "get_kcore_depth(Ssimp, verbose=True)"
   ]
  },
  {
   "cell_type": "markdown",
   "metadata": {},
   "source": [
    "# Communities TODO: Daniel"
   ]
  },
  {
   "cell_type": "code",
   "execution_count": 15,
   "metadata": {},
   "outputs": [
    {
     "data": {
      "text/plain": [
       "0.5236017038054361"
      ]
     },
     "execution_count": 15,
     "metadata": {},
     "output_type": "execute_result"
    }
   ],
   "source": [
    "nx_comm.modularity(Ssimp, list(label_propagation_communities(Ssimp)))"
   ]
  },
  {
   "cell_type": "markdown",
   "metadata": {},
   "source": [
    "# Asortatividad"
   ]
  },
  {
   "cell_type": "code",
   "execution_count": 16,
   "metadata": {},
   "outputs": [
    {
     "name": "stdout",
     "output_type": "stream",
     "text": [
      "Pearson coefficient: -0.18865407708232612\n",
      "Assortativity coefficient: -0.18865407708232587\n"
     ]
    }
   ],
   "source": [
    "pearson_coefficient = nx.degree_pearson_correlation_coefﬁcient(Ssimp)\n",
    "assortativity = nx.degree_assortativity_coefficient(Ssimp)\n",
    "\n",
    "print(\"Pearson coefficient:\", pearson_coefficient)\n",
    "print(\"Assortativity coefficient:\", assortativity)"
   ]
  },
  {
   "cell_type": "markdown",
   "metadata": {},
   "source": [
    "# Structural Model"
   ]
  },
  {
   "cell_type": "code",
   "execution_count": 25,
   "metadata": {},
   "outputs": [
    {
     "data": {
      "text/plain": [
       "{'lovaina': [0.021553982121432346,\n",
       "  0.022757115915968646,\n",
       "  0.023450585432138137,\n",
       "  0.010500120549071453,\n",
       "  0.01448917227524187,\n",
       "  0.011552888888888887,\n",
       "  0.010445056026743497,\n",
       "  0.019232002931170424,\n",
       "  0.011131261525852094,\n",
       "  0.023518429544922406],\n",
       " 'pearson_coefficient': [-0.06659239240878882,\n",
       "  -0.07859132401747695,\n",
       "  -0.0901070790272283,\n",
       "  -0.09045748091143256,\n",
       "  -0.08225278950726839,\n",
       "  -0.07068883501850518,\n",
       "  -0.09901844811632098,\n",
       "  -0.08348609800648268,\n",
       "  -0.08767577754900113,\n",
       "  -0.0938217037462714],\n",
       " 'average_clustering_coefficient': [0.18593649792769038,\n",
       "  0.18138960023944198,\n",
       "  0.17989394826800725,\n",
       "  0.1793275446104134,\n",
       "  0.17965747013278388,\n",
       "  0.15346761011498644,\n",
       "  0.16135015368337688,\n",
       "  0.18115181315306647,\n",
       "  0.17905969753677284,\n",
       "  0.18843814218589813],\n",
       " 'kcore_depth': [7, 8, 8, 7, 7, 8, 7, 7, 7, 7]}"
      ]
     },
     "execution_count": 25,
     "metadata": {},
     "output_type": "execute_result"
    }
   ],
   "source": [
    "n_graphs = 10\n",
    "\n",
    "data = {\"lovaina\": [], \"pearson_coefficient\": [], \"average_clustering_coefficient\": [], \"kcore_depth\": []}\n",
    "\n",
    "for i in range(n_graphs):\n",
    "\t#graphs[i] = {}\n",
    "\tconfig_model = nx.configuration_model([d for v, d in Ssimp.degree()])\n",
    "\t# Convert the configuration model graph into a simple graph\n",
    "\trandom_graph = nx.Graph(config_model)\n",
    "\n",
    "\t# You might want to remove self-loops and parallel edges\n",
    "\trandom_graph = nx.Graph(random_graph)\n",
    "\n",
    "\trandom_graph.remove_edges_from(nx.selfloop_edges(random_graph))\n",
    "\n",
    "\t#graphs[i][\"graph\"] = random_graph\n",
    "\t#graphs[i][\"data\"] = {}\n",
    "\n",
    "\t#data = graphs[i][\"data\"]\n",
    "\n",
    "\t# Lovaina\n",
    "\tlovaina = nx_comm.modularity(random_graph, list(label_propagation_communities(random_graph)))\n",
    "\tdata[\"lovaina\"].append(lovaina)\n",
    "\t#print(\"Lovaina:\", lovaina)\n",
    "\t# Correlation\n",
    "\tpearson_coefficient = nx.degree_pearson_correlation_coefﬁcient(random_graph)\n",
    "\tdata[\"pearson_coefficient\"].append(pearson_coefficient)\n",
    "\t# Average Local clustering coefficient\n",
    "\taverage_clustering_coefficient = nx.average_clustering(random_graph, count_zeros=False)\n",
    "\tdata[\"average_clustering_coefficient\"].append(average_clustering_coefficient)\n",
    "\t# Depth of the k-core\n",
    "\tkcore_depth = get_kcore_depth(random_graph)\n",
    "\tdata[\"kcore_depth\"].append(kcore_depth)\n",
    "data"
   ]
  },
  {
   "cell_type": "code",
   "execution_count": 26,
   "metadata": {},
   "outputs": [
    {
     "data": {
      "text/html": [
       "<div>\n",
       "<style scoped>\n",
       "    .dataframe tbody tr th:only-of-type {\n",
       "        vertical-align: middle;\n",
       "    }\n",
       "\n",
       "    .dataframe tbody tr th {\n",
       "        vertical-align: top;\n",
       "    }\n",
       "\n",
       "    .dataframe thead th {\n",
       "        text-align: right;\n",
       "    }\n",
       "</style>\n",
       "<table border=\"1\" class=\"dataframe\">\n",
       "  <thead>\n",
       "    <tr style=\"text-align: right;\">\n",
       "      <th></th>\n",
       "      <th>lovaina</th>\n",
       "      <th>pearson_coefficient</th>\n",
       "      <th>average_clustering_coefficient</th>\n",
       "      <th>kcore_depth</th>\n",
       "    </tr>\n",
       "  </thead>\n",
       "  <tbody>\n",
       "    <tr>\n",
       "      <th>0</th>\n",
       "      <td>0.021554</td>\n",
       "      <td>-0.066592</td>\n",
       "      <td>0.185936</td>\n",
       "      <td>7</td>\n",
       "    </tr>\n",
       "    <tr>\n",
       "      <th>1</th>\n",
       "      <td>0.022757</td>\n",
       "      <td>-0.078591</td>\n",
       "      <td>0.181390</td>\n",
       "      <td>8</td>\n",
       "    </tr>\n",
       "    <tr>\n",
       "      <th>2</th>\n",
       "      <td>0.023451</td>\n",
       "      <td>-0.090107</td>\n",
       "      <td>0.179894</td>\n",
       "      <td>8</td>\n",
       "    </tr>\n",
       "    <tr>\n",
       "      <th>3</th>\n",
       "      <td>0.010500</td>\n",
       "      <td>-0.090457</td>\n",
       "      <td>0.179328</td>\n",
       "      <td>7</td>\n",
       "    </tr>\n",
       "    <tr>\n",
       "      <th>4</th>\n",
       "      <td>0.014489</td>\n",
       "      <td>-0.082253</td>\n",
       "      <td>0.179657</td>\n",
       "      <td>7</td>\n",
       "    </tr>\n",
       "    <tr>\n",
       "      <th>5</th>\n",
       "      <td>0.011553</td>\n",
       "      <td>-0.070689</td>\n",
       "      <td>0.153468</td>\n",
       "      <td>8</td>\n",
       "    </tr>\n",
       "    <tr>\n",
       "      <th>6</th>\n",
       "      <td>0.010445</td>\n",
       "      <td>-0.099018</td>\n",
       "      <td>0.161350</td>\n",
       "      <td>7</td>\n",
       "    </tr>\n",
       "    <tr>\n",
       "      <th>7</th>\n",
       "      <td>0.019232</td>\n",
       "      <td>-0.083486</td>\n",
       "      <td>0.181152</td>\n",
       "      <td>7</td>\n",
       "    </tr>\n",
       "    <tr>\n",
       "      <th>8</th>\n",
       "      <td>0.011131</td>\n",
       "      <td>-0.087676</td>\n",
       "      <td>0.179060</td>\n",
       "      <td>7</td>\n",
       "    </tr>\n",
       "    <tr>\n",
       "      <th>9</th>\n",
       "      <td>0.023518</td>\n",
       "      <td>-0.093822</td>\n",
       "      <td>0.188438</td>\n",
       "      <td>7</td>\n",
       "    </tr>\n",
       "  </tbody>\n",
       "</table>\n",
       "</div>"
      ],
      "text/plain": [
       "    lovaina  pearson_coefficient  average_clustering_coefficient  kcore_depth\n",
       "0  0.021554            -0.066592                        0.185936            7\n",
       "1  0.022757            -0.078591                        0.181390            8\n",
       "2  0.023451            -0.090107                        0.179894            8\n",
       "3  0.010500            -0.090457                        0.179328            7\n",
       "4  0.014489            -0.082253                        0.179657            7\n",
       "5  0.011553            -0.070689                        0.153468            8\n",
       "6  0.010445            -0.099018                        0.161350            7\n",
       "7  0.019232            -0.083486                        0.181152            7\n",
       "8  0.011131            -0.087676                        0.179060            7\n",
       "9  0.023518            -0.093822                        0.188438            7"
      ]
     },
     "execution_count": 26,
     "metadata": {},
     "output_type": "execute_result"
    }
   ],
   "source": [
    "import pandas as pd \n",
    "\n",
    "df = pd.DataFrame(data)\n",
    "df"
   ]
  },
  {
   "cell_type": "code",
   "execution_count": 27,
   "metadata": {},
   "outputs": [],
   "source": [
    "import pickle as pkl\n",
    "\n",
    "with open('random_nets_dict.pickle', 'wb') as fp:\n",
    "    pkl.dump(data, fp, protocol=pkl.HIGHEST_PROTOCOL)"
   ]
  }
 ],
 "metadata": {
  "kernelspec": {
   "display_name": "Python 3",
   "language": "python",
   "name": "python3"
  },
  "language_info": {
   "codemirror_mode": {
    "name": "ipython",
    "version": 3
   },
   "file_extension": ".py",
   "mimetype": "text/x-python",
   "name": "python",
   "nbconvert_exporter": "python",
   "pygments_lexer": "ipython3",
   "version": "3.10.6"
  }
 },
 "nbformat": 4,
 "nbformat_minor": 2
}
