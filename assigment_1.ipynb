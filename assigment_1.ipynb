{
 "cells": [
  {
   "cell_type": "code",
   "execution_count": 2,
   "metadata": {},
   "outputs": [],
   "source": [
    "import networkx as nx\n",
    "from networkx.algorithms.community import label_propagation_communities\n",
    "import networkx.algorithms.community as nx_comm\n",
    "import matplotlib.pyplot as plt"
   ]
  },
  {
   "cell_type": "code",
   "execution_count": 4,
   "metadata": {},
   "outputs": [
    {
     "data": {
      "text/plain": [
       "<networkx.classes.multigraph.MultiGraph at 0x2c3c0a07090>"
      ]
     },
     "execution_count": 4,
     "metadata": {},
     "output_type": "execute_result"
    }
   ],
   "source": [
    "# Leo una red en formato pajek\n",
    "G = nx.read_pajek(\"17.net\")\n",
    "# Se supone que todos los archivos los dejé no-dirigidos, pero por si acaso...\n",
    "G = G.to_undirected()\n",
    "G"
   ]
  },
  {
   "cell_type": "markdown",
   "metadata": {},
   "source": [
    "# Basic Data"
   ]
  },
  {
   "cell_type": "code",
   "execution_count": 5,
   "metadata": {},
   "outputs": [
    {
     "name": "stdout",
     "output_type": "stream",
     "text": [
      "Number of nodes: 924\n",
      "Number of edges: 3239\n"
     ]
    }
   ],
   "source": [
    "# Get the number of nodes\n",
    "num_nodes = G.number_of_nodes()\n",
    "num_edges = G.number_of_edges()\n",
    "\n",
    "print(\"Number of nodes:\", num_nodes)\n",
    "print(\"Number of edges:\", num_edges)"
   ]
  },
  {
   "cell_type": "code",
   "execution_count": 6,
   "metadata": {},
   "outputs": [
    {
     "name": "stdout",
     "output_type": "stream",
     "text": [
      "First edge: 1 2 {'weight': 1.958915898}\n"
     ]
    }
   ],
   "source": [
    "# First edge\n",
    "u, v, data = G.edges(data=True).__iter__().__next__()\n",
    "print(\"First edge:\", u, v, data)"
   ]
  },
  {
   "cell_type": "markdown",
   "metadata": {},
   "source": [
    "# Conexity"
   ]
  },
  {
   "cell_type": "code",
   "execution_count": 7,
   "metadata": {},
   "outputs": [
    {
     "name": "stdout",
     "output_type": "stream",
     "text": [
      "Number of connected components: 13\n",
      "Component 1 size: 878\n",
      "Component 2 size: 3\n",
      "Component 3 size: 3\n",
      "Component 4 size: 3\n",
      "Component 5 size: 6\n",
      "Component 6 size: 3\n",
      "Component 7 size: 9\n",
      "Component 8 size: 3\n",
      "Component 9 size: 3\n",
      "Component 10 size: 4\n",
      "Component 11 size: 3\n",
      "Component 12 size: 3\n",
      "Component 13 size: 3\n"
     ]
    }
   ],
   "source": [
    "connected_components = list(nx.connected_components(G))\n",
    "\n",
    "# Print the number of connected components and their sizes\n",
    "print(\"Number of connected components:\", len(connected_components))\n",
    "for i, component in enumerate(connected_components, start=1):\n",
    "    print(\"Component\", i, \"size:\", len(component))"
   ]
  },
  {
   "cell_type": "code",
   "execution_count": 8,
   "metadata": {},
   "outputs": [
    {
     "data": {
      "text/plain": [
       "(878, 3181)"
      ]
     },
     "execution_count": 8,
     "metadata": {},
     "output_type": "execute_result"
    }
   ],
   "source": [
    "# Giant Component\n",
    "S = G.subgraph(max(nx.connected_components(G), key=len)).copy()\n",
    "\n",
    "Ssimp = nx.Graph()\n",
    "for u,v,data in S.edges(data=True):\n",
    "    if not Ssimp.has_edge(u,v):\n",
    "        Ssimp.add_edge(u, v)\n",
    "    \n",
    "\n",
    "Ssimp.number_of_nodes(), Ssimp.number_of_edges()"
   ]
  },
  {
   "cell_type": "code",
   "execution_count": 9,
   "metadata": {},
   "outputs": [
    {
     "name": "stdout",
     "output_type": "stream",
     "text": [
      "Giant component node ratio: 0.95\n",
      "Smaller component node ratio: 0.05\n"
     ]
    }
   ],
   "source": [
    "giant_component_node_ratio = Ssimp.number_of_nodes() / num_nodes\n",
    "\n",
    "print(f\"Giant component node ratio: {giant_component_node_ratio:.2f}\")\n",
    "print(f\"Smaller component node ratio: {(1 - giant_component_node_ratio):.2f}\")"
   ]
  },
  {
   "cell_type": "markdown",
   "metadata": {},
   "source": [
    "# Degrees"
   ]
  },
  {
   "cell_type": "code",
   "execution_count": 18,
   "metadata": {},
   "outputs": [
    {
     "name": "stdout",
     "output_type": "stream",
     "text": [
      "Minimum degree: 1\n",
      "Maximum degree: 151\n",
      "Average degree: 7.246013667425968\n"
     ]
    }
   ],
   "source": [
    "degrees = [degree for node, degree in Ssimp.degree()]\n",
    "\n",
    "# Get the minimum, maximum, and average degree\n",
    "min_degree = min(degrees)\n",
    "max_degree = max(degrees)\n",
    "avg_degree = sum(degrees) / len(degrees)\n",
    "\n",
    "print(\"Minimum degree:\", min_degree)\n",
    "print(\"Maximum degree:\", max_degree)\n",
    "print(\"Average degree:\", avg_degree)"
   ]
  },
  {
   "cell_type": "code",
   "execution_count": 65,
   "metadata": {},
   "outputs": [
    {
     "data": {
      "image/png": "[encoded data removed]",
      "text/plain": [
       "<Figure size 640x480 with 1 Axes>"
      ]
     },
     "metadata": {},
     "output_type": "display_data"
    }
   ],
   "source": [
    "# Plot the degree distribution\n",
    "plt.hist(degrees, bins='auto', alpha=0.7)\n",
    "plt.title(\"Degree Distribution\")\n",
    "plt.xlabel(\"Degree\")\n",
    "plt.ylabel(\"Frequency\")\n",
    "plt.grid(True)\n",
    "plt.show()"
   ]
  },
  {
   "cell_type": "markdown",
   "metadata": {},
   "source": [
    "# Distances"
   ]
  },
  {
   "cell_type": "code",
   "execution_count": 20,
   "metadata": {},
   "outputs": [
    {
     "name": "stdout",
     "output_type": "stream",
     "text": [
      "Average distance between nodes: 3.7349033643893685\n",
      "Diameter of the graph: 10\n"
     ]
    }
   ],
   "source": [
    "average_shortest_path_length = nx.average_shortest_path_length(Ssimp)\n",
    "diameter = nx.diameter(Ssimp)\n",
    "\n",
    "print(\"Average distance between nodes:\", average_shortest_path_length)\n",
    "print(\"Diameter of the graph:\", diameter)"
   ]
  },
  {
   "cell_type": "markdown",
   "metadata": {},
   "source": [
    "# Transitivity"
   ]
  },
  {
   "cell_type": "code",
   "execution_count": 30,
   "metadata": {},
   "outputs": [
    {
     "name": "stdout",
     "output_type": "stream",
     "text": [
      "Average clustering coefficient count_zeros=True: 0.5889265274190247\n",
      "Average clustering coefficient count_zeros=False: 0.6455399389187313\n"
     ]
    }
   ],
   "source": [
    "# Calculate the average clustering coefficient\n",
    "average_clustering_coefficient_t = nx.average_clustering(Ssimp, count_zeros=True)\n",
    "average_clustering_coefficient_f = nx.average_clustering(Ssimp, count_zeros=False)\n",
    "\n",
    "print(\"Average clustering coefficient count_zeros=True:\", average_clustering_coefficient_t)\n",
    "print(\"Average clustering coefficient count_zeros=False:\", average_clustering_coefficient_f)\n"
   ]
  },
  {
   "cell_type": "markdown",
   "metadata": {},
   "source": [
    "TODO: Make random graph and calculate the average clustering to compare the results"
   ]
  },
  {
   "cell_type": "markdown",
   "metadata": {},
   "source": [
    "# Centralidad TODO: Daniel"
   ]
  },
  {
   "cell_type": "markdown",
   "metadata": {},
   "source": [
    "# Core"
   ]
  },
  {
   "cell_type": "code",
   "execution_count": 109,
   "metadata": {},
   "outputs": [
    {
     "name": "stdout",
     "output_type": "stream",
     "text": [
      "Number of nodes in the 1-core: 878\n",
      "Number of nodes in the 2-core: 806\n",
      "Number of nodes in the 3-core: 572\n",
      "Number of nodes in the 4-core: 421\n",
      "Number of nodes in the 5-core: 315\n",
      "Number of nodes in the 6-core: 223\n",
      "Number of nodes in the 7-core: 136\n",
      "Number of nodes in the 8-core: 79\n",
      "Number of nodes in the 9-core: 56\n",
      "Number of nodes in the 10-core: 0\n",
      "Maximum core number: 9\n"
     ]
    },
    {
     "data": {
      "text/plain": [
       "9"
      ]
     },
     "execution_count": 109,
     "metadata": {},
     "output_type": "execute_result"
    }
   ],
   "source": [
    "def get_kcore_depth(net, verbose=False):\n",
    "\ti = 1\n",
    "\twhile True:\n",
    "\t\tn_nodes = len(nx.k_core(net, i))\n",
    "\t\tif verbose: print(f\"Number of nodes in the {i}-core:\", n_nodes)\n",
    "\t\tif n_nodes == 0:\n",
    "\t\t\tbreak\n",
    "\t\ti += 1\n",
    "\tif verbose: print(\"Maximum core number:\", i - 1)\n",
    "\treturn i - 1\n",
    "\n",
    "get_kcore_depth(Ssimp, verbose=True)"
   ]
  },
  {
   "cell_type": "markdown",
   "metadata": {},
   "source": [
    "# Communities TODO: Daniel"
   ]
  },
  {
   "cell_type": "code",
   "execution_count": 110,
   "metadata": {},
   "outputs": [
    {
     "data": {
      "text/plain": [
       "0.5236017038054361"
      ]
     },
     "execution_count": 110,
     "metadata": {},
     "output_type": "execute_result"
    }
   ],
   "source": [
    "nx_comm.modularity(Ssimp, list(label_propagation_communities(Ssimp)))"
   ]
  },
  {
   "cell_type": "markdown",
   "metadata": {},
   "source": [
    "# Asortatividad"
   ]
  },
  {
   "cell_type": "code",
   "execution_count": 85,
   "metadata": {},
   "outputs": [
    {
     "name": "stdout",
     "output_type": "stream",
     "text": [
      "Pearson coefficient: -0.1886540770823261\n",
      "Assortativity coefficient: -0.18865407708232587\n"
     ]
    }
   ],
   "source": [
    "pearson_coefficient = nx.degree_pearson_correlation_coefﬁcient(Ssimp)\n",
    "assortativity = nx.degree_assortativity_coefficient(Ssimp)\n",
    "\n",
    "print(\"Pearson coefficient:\", pearson_coefficient)\n",
    "print(\"Assortativity coefficient:\", assortativity)"
   ]
  },
  {
   "cell_type": "markdown",
   "metadata": {},
   "source": [
    "# Structural Model"
   ]
  },
  {
   "cell_type": "code",
   "execution_count": 125,
   "metadata": {},
   "outputs": [
    {
     "data": {
      "text/plain": [
       "{'lovaina': [0.017495067159905495,\n",
       "  0.01770732496583465,\n",
       "  0.020204431823165662,\n",
       "  0.013056699592446697,\n",
       "  0.01177506753730294,\n",
       "  0.019010477580791132,\n",
       "  0.01832054901468426,\n",
       "  0.00728358790988369,\n",
       "  0.021452413183784807,\n",
       "  0.01695588005953252],\n",
       " 'pearson_coefficient': [-0.0866686959052629,\n",
       "  -0.0911795056011652,\n",
       "  -0.0862021586505391,\n",
       "  -0.08625575331120451,\n",
       "  -0.09834048614359603,\n",
       "  -0.08070750712227476,\n",
       "  -0.09249507311757714,\n",
       "  -0.07315998467760146,\n",
       "  -0.07738491949785568,\n",
       "  -0.08574633396634067],\n",
       " 'average_clustering_coefficient': [0.08685855112555523,\n",
       "  0.07293038462583627,\n",
       "  0.0729835730386923,\n",
       "  0.08809476029297644,\n",
       "  0.07875033775637157,\n",
       "  0.07218297649400314,\n",
       "  0.08041153071298984,\n",
       "  0.07051685451246291,\n",
       "  0.07377190046199368,\n",
       "  0.076797665995651],\n",
       " 'kcore_depth': [8, 8, 8, 8, 8, 7, 7, 7, 8, 7]}"
      ]
     },
     "execution_count": 125,
     "metadata": {},
     "output_type": "execute_result"
    }
   ],
   "source": [
    "n_graphs = 10\n",
    "\n",
    "data = {\"lovaina\": [], \"pearson_coefficient\": [], \"average_clustering_coefficient\": [], \"kcore_depth\": []}\n",
    "\n",
    "for i in range(n_graphs):\n",
    "\t#graphs[i] = {}\n",
    "\tconfig_model = nx.configuration_model([d for v, d in Ssimp.degree()])\n",
    "\t# Convert the configuration model graph into a simple graph\n",
    "\trandom_graph = nx.Graph(config_model)\n",
    "\n",
    "\t# You might want to remove self-loops and parallel edges\n",
    "\trandom_graph = nx.Graph(random_graph)\n",
    "\n",
    "\trandom_graph.remove_edges_from(nx.selfloop_edges(random_graph))\n",
    "\n",
    "\t#graphs[i][\"graph\"] = random_graph\n",
    "\t#graphs[i][\"data\"] = {}\n",
    "\n",
    "\t#data = graphs[i][\"data\"]\n",
    "\n",
    "\t# Lovaina\n",
    "\tlovaina = nx_comm.modularity(random_graph, list(label_propagation_communities(random_graph)))\n",
    "\tdata[\"lovaina\"].append(lovaina)\n",
    "\t#print(\"Lovaina:\", lovaina)\n",
    "\t# Correlation\n",
    "\tpearson_coefficient = nx.degree_pearson_correlation_coefﬁcient(random_graph)\n",
    "\tdata[\"pearson_coefficient\"].append(pearson_coefficient)\n",
    "\t# Average Local clustering coefficient\n",
    "\taverage_clustering_coefficient = nx.average_clustering(random_graph)\n",
    "\tdata[\"average_clustering_coefficient\"].append(average_clustering_coefficient)\n",
    "\t# Depth of the k-core\n",
    "\tkcore_depth = get_kcore_depth(random_graph)\n",
    "\tdata[\"kcore_depth\"].append(kcore_depth)\n",
    "data"
   ]
  },
  {
   "cell_type": "code",
   "execution_count": 128,
   "metadata": {},
   "outputs": [
    {
     "data": {
      "text/html": [
       "<div>\n",
       "<style scoped>\n",
       "    .dataframe tbody tr th:only-of-type {\n",
       "        vertical-align: middle;\n",
       "    }\n",
       "\n",
       "    .dataframe tbody tr th {\n",
       "        vertical-align: top;\n",
       "    }\n",
       "\n",
       "    .dataframe thead th {\n",
       "        text-align: right;\n",
       "    }\n",
       "</style>\n",
       "<table border=\"1\" class=\"dataframe\">\n",
       "  <thead>\n",
       "    <tr style=\"text-align: right;\">\n",
       "      <th></th>\n",
       "      <th>lovaina</th>\n",
       "      <th>pearson_coefficient</th>\n",
       "      <th>average_clustering_coefficient</th>\n",
       "      <th>kcore_depth</th>\n",
       "    </tr>\n",
       "  </thead>\n",
       "  <tbody>\n",
       "    <tr>\n",
       "      <th>0</th>\n",
       "      <td>0.017495</td>\n",
       "      <td>-0.086669</td>\n",
       "      <td>0.086859</td>\n",
       "      <td>8</td>\n",
       "    </tr>\n",
       "    <tr>\n",
       "      <th>1</th>\n",
       "      <td>0.017707</td>\n",
       "      <td>-0.091180</td>\n",
       "      <td>0.072930</td>\n",
       "      <td>8</td>\n",
       "    </tr>\n",
       "    <tr>\n",
       "      <th>2</th>\n",
       "      <td>0.020204</td>\n",
       "      <td>-0.086202</td>\n",
       "      <td>0.072984</td>\n",
       "      <td>8</td>\n",
       "    </tr>\n",
       "    <tr>\n",
       "      <th>3</th>\n",
       "      <td>0.013057</td>\n",
       "      <td>-0.086256</td>\n",
       "      <td>0.088095</td>\n",
       "      <td>8</td>\n",
       "    </tr>\n",
       "    <tr>\n",
       "      <th>4</th>\n",
       "      <td>0.011775</td>\n",
       "      <td>-0.098340</td>\n",
       "      <td>0.078750</td>\n",
       "      <td>8</td>\n",
       "    </tr>\n",
       "    <tr>\n",
       "      <th>5</th>\n",
       "      <td>0.019010</td>\n",
       "      <td>-0.080708</td>\n",
       "      <td>0.072183</td>\n",
       "      <td>7</td>\n",
       "    </tr>\n",
       "    <tr>\n",
       "      <th>6</th>\n",
       "      <td>0.018321</td>\n",
       "      <td>-0.092495</td>\n",
       "      <td>0.080412</td>\n",
       "      <td>7</td>\n",
       "    </tr>\n",
       "    <tr>\n",
       "      <th>7</th>\n",
       "      <td>0.007284</td>\n",
       "      <td>-0.073160</td>\n",
       "      <td>0.070517</td>\n",
       "      <td>7</td>\n",
       "    </tr>\n",
       "    <tr>\n",
       "      <th>8</th>\n",
       "      <td>0.021452</td>\n",
       "      <td>-0.077385</td>\n",
       "      <td>0.073772</td>\n",
       "      <td>8</td>\n",
       "    </tr>\n",
       "    <tr>\n",
       "      <th>9</th>\n",
       "      <td>0.016956</td>\n",
       "      <td>-0.085746</td>\n",
       "      <td>0.076798</td>\n",
       "      <td>7</td>\n",
       "    </tr>\n",
       "  </tbody>\n",
       "</table>\n",
       "</div>"
      ],
      "text/plain": [
       "    lovaina  pearson_coefficient  average_clustering_coefficient  kcore_depth\n",
       "0  0.017495            -0.086669                        0.086859            8\n",
       "1  0.017707            -0.091180                        0.072930            8\n",
       "2  0.020204            -0.086202                        0.072984            8\n",
       "3  0.013057            -0.086256                        0.088095            8\n",
       "4  0.011775            -0.098340                        0.078750            8\n",
       "5  0.019010            -0.080708                        0.072183            7\n",
       "6  0.018321            -0.092495                        0.080412            7\n",
       "7  0.007284            -0.073160                        0.070517            7\n",
       "8  0.021452            -0.077385                        0.073772            8\n",
       "9  0.016956            -0.085746                        0.076798            7"
      ]
     },
     "execution_count": 128,
     "metadata": {},
     "output_type": "execute_result"
    }
   ],
   "source": [
    "import pandas as pd \n",
    "\n",
    "df = pd.DataFrame(data)\n",
    "df"
   ]
  }
 ],
 "metadata": {
  "kernelspec": {
   "display_name": "Python 3",
   "language": "python",
   "name": "python3"
  },
  "language_info": {
   "codemirror_mode": {
    "name": "ipython",
    "version": 3
   },
   "file_extension": ".py",
   "mimetype": "text/x-python",
   "name": "python",
   "nbconvert_exporter": "python",
   "pygments_lexer": "ipython3",
   "version": "3.11.6"
  }
 },
 "nbformat": 4,
 "nbformat_minor": 2
}
